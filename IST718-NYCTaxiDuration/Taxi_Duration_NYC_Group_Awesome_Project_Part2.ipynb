{
 "cells": [
  {
   "cell_type": "code",
   "execution_count": 0,
   "metadata": {
    "colab": {},
    "colab_type": "code",
    "id": "WTbUsB1l2QUI"
   },
   "outputs": [],
   "source": [
    "#Import libraries\n",
    "import pandas as pd\n",
    "import numpy as np\n",
    "import matplotlib.pyplot as plt\n",
    "import seaborn as sns\n",
    "import datetime\n",
    "\n",
    "from sklearn.ensemble import RandomForestRegressor\n",
    "from sklearn.model_selection import train_test_split"
   ]
  },
  {
   "cell_type": "code",
   "execution_count": 4,
   "metadata": {
    "colab": {
     "base_uri": "https://localhost:8080/",
     "height": 34
    },
    "colab_type": "code",
    "id": "u7l1pvJQUJlq",
    "outputId": "f2948c9a-1260-4082-d8f6-a3b679b9343d"
   },
   "outputs": [
    {
     "name": "stdout",
     "output_type": "stream",
     "text": [
      "Drive already mounted at /content/gdrive; to attempt to forcibly remount, call drive.mount(\"/content/gdrive\", force_remount=True).\n"
     ]
    }
   ],
   "source": [
    "from google.colab import drive\n",
    "drive.mount('/content/gdrive')"
   ]
  },
  {
   "cell_type": "code",
   "execution_count": 0,
   "metadata": {
    "colab": {},
    "colab_type": "code",
    "id": "HXXIfonM2Urw"
   },
   "outputs": [],
   "source": [
    "#Obtain Data\n",
    "\n",
    "#Load NYC taxi data\n",
    "df_taxi_train = pd.read_csv('/content/gdrive/My Drive/BigDataProj/NYTaxi train.csv')\n",
    "df_taxi_test = pd.read_csv('/content/gdrive/My Drive/BigDataProj/NYTaxi test.csv')\n",
    "\n",
    "#Load Collisions data\n",
    "df_collisions = pd.read_csv('/content/gdrive/My Drive/BigDataProj/NYPD_Motor_Vehicle_Collisions.csv', index_col='UNIQUE KEY', \n",
    "                         parse_dates={'DATETIME':[\"DATE\",\"TIME\"]})\n",
    "\n",
    "#Load OSRM data\n",
    "df_fr_test = pd.read_csv('/content/gdrive/My Drive/BigDataProj/fastest_routes_test.csv')\n",
    "df_fr_train_p1 = pd.read_csv('/content/gdrive/My Drive/BigDataProj/fastest_routes_train_part_1.csv')\n",
    "df_fr_train_p2 = pd.read_csv('/content/gdrive/My Drive/BigDataProj/fastest_routes_train_part_2.csv')\n",
    "\n"
   ]
  },
  {
   "cell_type": "code",
   "execution_count": 0,
   "metadata": {
    "colab": {},
    "colab_type": "code",
    "id": "Kipf-xPTnOKG"
   },
   "outputs": [],
   "source": [
    "#clean OSRM data\n",
    "\n",
    "#Create a subset of OSRM data with id, total_distance and number of steps\n",
    "\n",
    "df_fr_train_p1_subset = df_fr_train_p1[['id','total_distance','number_of_steps']]\n",
    "\n",
    "df_fr_train_p2_subset = df_fr_train_p2[['id','total_distance','number_of_steps']]\n",
    "\n",
    "df_fr_test_subset = df_fr_test[['id','total_distance','number_of_steps']]\n"
   ]
  },
  {
   "cell_type": "code",
   "execution_count": 0,
   "metadata": {
    "colab": {},
    "colab_type": "code",
    "id": "pWnB19bPnTnr"
   },
   "outputs": [],
   "source": [
    "#Combine the two OSRM dataset\n",
    "df_fr_train =  df_fr_train_p1_subset.append(df_fr_train_p2_subset)"
   ]
  },
  {
   "cell_type": "code",
   "execution_count": 8,
   "metadata": {
    "colab": {
     "base_uri": "https://localhost:8080/",
     "height": 360
    },
    "colab_type": "code",
    "id": "PSzW5tsHwxOh",
    "outputId": "a1b1e120-b370-4a38-a39a-1726fff02955"
   },
   "outputs": [
    {
     "data": {
      "text/html": [
       "<div>\n",
       "<style scoped>\n",
       "    .dataframe tbody tr th:only-of-type {\n",
       "        vertical-align: middle;\n",
       "    }\n",
       "\n",
       "    .dataframe tbody tr th {\n",
       "        vertical-align: top;\n",
       "    }\n",
       "\n",
       "    .dataframe thead th {\n",
       "        text-align: right;\n",
       "    }\n",
       "</style>\n",
       "<table border=\"1\" class=\"dataframe\">\n",
       "  <thead>\n",
       "    <tr style=\"text-align: right;\">\n",
       "      <th></th>\n",
       "      <th>id</th>\n",
       "      <th>starting_street</th>\n",
       "      <th>end_street</th>\n",
       "      <th>total_distance</th>\n",
       "      <th>total_travel_time</th>\n",
       "      <th>number_of_steps</th>\n",
       "      <th>street_for_each_step</th>\n",
       "      <th>distance_per_step</th>\n",
       "      <th>travel_time_per_step</th>\n",
       "      <th>step_maneuvers</th>\n",
       "      <th>step_direction</th>\n",
       "      <th>step_location_list</th>\n",
       "    </tr>\n",
       "  </thead>\n",
       "  <tbody>\n",
       "    <tr>\n",
       "      <th>0</th>\n",
       "      <td>id2875421</td>\n",
       "      <td>Columbus Circle</td>\n",
       "      <td>East 65th Street</td>\n",
       "      <td>2009.1</td>\n",
       "      <td>164.9</td>\n",
       "      <td>5</td>\n",
       "      <td>Columbus Circle|Central Park West|65th Street ...</td>\n",
       "      <td>0|576.4|885.6|547.1|0</td>\n",
       "      <td>0|61.1|60.1|43.7|0</td>\n",
       "      <td>depart|rotary|turn|new name|arrive</td>\n",
       "      <td>left|straight|right|straight|arrive</td>\n",
       "      <td>-73.982316,40.767869|-73.981997,40.767688|-73....</td>\n",
       "    </tr>\n",
       "    <tr>\n",
       "      <th>1</th>\n",
       "      <td>id2377394</td>\n",
       "      <td>2nd Avenue</td>\n",
       "      <td>Washington Square West</td>\n",
       "      <td>2513.2</td>\n",
       "      <td>332.0</td>\n",
       "      <td>6</td>\n",
       "      <td>2nd Avenue|East 13th Street|5th Avenue|Washing...</td>\n",
       "      <td>877.3|836.5|496.1|164.2|139.1|0</td>\n",
       "      <td>111.7|109|69.9|25.8|15.6|0</td>\n",
       "      <td>depart|turn|turn|end of road|continue|arrive</td>\n",
       "      <td>none|right|left|right|left|arrive</td>\n",
       "      <td>-73.980429,40.73857|-73.985444,40.731658|-73.9...</td>\n",
       "    </tr>\n",
       "    <tr>\n",
       "      <th>2</th>\n",
       "      <td>id3504673</td>\n",
       "      <td>Greenwich Street</td>\n",
       "      <td>Broadway</td>\n",
       "      <td>1779.4</td>\n",
       "      <td>235.8</td>\n",
       "      <td>4</td>\n",
       "      <td>Greenwich Street|Park Place|Broadway|Broadway</td>\n",
       "      <td>644.2|379.9|755.3|0</td>\n",
       "      <td>80.5|50.8|104.5|0</td>\n",
       "      <td>depart|turn|end of road|arrive</td>\n",
       "      <td>left|left|right|arrive</td>\n",
       "      <td>-74.010145,40.719982|-74.011527,40.714294|-74....</td>\n",
       "    </tr>\n",
       "    <tr>\n",
       "      <th>3</th>\n",
       "      <td>id2181028</td>\n",
       "      <td>Broadway</td>\n",
       "      <td>West 81st Street</td>\n",
       "      <td>1614.9</td>\n",
       "      <td>140.1</td>\n",
       "      <td>5</td>\n",
       "      <td>Broadway|West 86th Street|Columbus Avenue|West...</td>\n",
       "      <td>617|427.4|412.2|158.3|0</td>\n",
       "      <td>56|36|37.8|10.3|0</td>\n",
       "      <td>depart|turn|turn|turn|arrive</td>\n",
       "      <td>right|left|right|left|arrive</td>\n",
       "      <td>-73.972998,40.793187|-73.976607,40.788361|-73....</td>\n",
       "    </tr>\n",
       "    <tr>\n",
       "      <th>4</th>\n",
       "      <td>id0801584</td>\n",
       "      <td>Lexington Avenue</td>\n",
       "      <td>West 31st Street</td>\n",
       "      <td>1393.5</td>\n",
       "      <td>189.4</td>\n",
       "      <td>5</td>\n",
       "      <td>Lexington Avenue|East 27th Street|Madison Aven...</td>\n",
       "      <td>18.9|311.9|313.3|749.4|0</td>\n",
       "      <td>6.3|42.9|48.4|91.8|0</td>\n",
       "      <td>depart|turn|turn|turn|arrive</td>\n",
       "      <td>right|right|right|left|arrive</td>\n",
       "      <td>-73.982805,40.742173|-73.982914,40.742024|-73....</td>\n",
       "    </tr>\n",
       "  </tbody>\n",
       "</table>\n",
       "</div>"
      ],
      "text/plain": [
       "          id   starting_street              end_street  total_distance  \\\n",
       "0  id2875421   Columbus Circle        East 65th Street          2009.1   \n",
       "1  id2377394        2nd Avenue  Washington Square West          2513.2   \n",
       "2  id3504673  Greenwich Street                Broadway          1779.4   \n",
       "3  id2181028          Broadway        West 81st Street          1614.9   \n",
       "4  id0801584  Lexington Avenue        West 31st Street          1393.5   \n",
       "\n",
       "   total_travel_time  number_of_steps  \\\n",
       "0              164.9                5   \n",
       "1              332.0                6   \n",
       "2              235.8                4   \n",
       "3              140.1                5   \n",
       "4              189.4                5   \n",
       "\n",
       "                                street_for_each_step  \\\n",
       "0  Columbus Circle|Central Park West|65th Street ...   \n",
       "1  2nd Avenue|East 13th Street|5th Avenue|Washing...   \n",
       "2      Greenwich Street|Park Place|Broadway|Broadway   \n",
       "3  Broadway|West 86th Street|Columbus Avenue|West...   \n",
       "4  Lexington Avenue|East 27th Street|Madison Aven...   \n",
       "\n",
       "                 distance_per_step        travel_time_per_step  \\\n",
       "0            0|576.4|885.6|547.1|0          0|61.1|60.1|43.7|0   \n",
       "1  877.3|836.5|496.1|164.2|139.1|0  111.7|109|69.9|25.8|15.6|0   \n",
       "2              644.2|379.9|755.3|0           80.5|50.8|104.5|0   \n",
       "3          617|427.4|412.2|158.3|0           56|36|37.8|10.3|0   \n",
       "4         18.9|311.9|313.3|749.4|0        6.3|42.9|48.4|91.8|0   \n",
       "\n",
       "                                 step_maneuvers  \\\n",
       "0            depart|rotary|turn|new name|arrive   \n",
       "1  depart|turn|turn|end of road|continue|arrive   \n",
       "2                depart|turn|end of road|arrive   \n",
       "3                  depart|turn|turn|turn|arrive   \n",
       "4                  depart|turn|turn|turn|arrive   \n",
       "\n",
       "                        step_direction  \\\n",
       "0  left|straight|right|straight|arrive   \n",
       "1    none|right|left|right|left|arrive   \n",
       "2               left|left|right|arrive   \n",
       "3         right|left|right|left|arrive   \n",
       "4        right|right|right|left|arrive   \n",
       "\n",
       "                                  step_location_list  \n",
       "0  -73.982316,40.767869|-73.981997,40.767688|-73....  \n",
       "1  -73.980429,40.73857|-73.985444,40.731658|-73.9...  \n",
       "2  -74.010145,40.719982|-74.011527,40.714294|-74....  \n",
       "3  -73.972998,40.793187|-73.976607,40.788361|-73....  \n",
       "4  -73.982805,40.742173|-73.982914,40.742024|-73....  "
      ]
     },
     "execution_count": 8,
     "metadata": {
      "tags": []
     },
     "output_type": "execute_result"
    }
   ],
   "source": [
    "#check data\n",
    "df_fr_train_p1.head()"
   ]
  },
  {
   "cell_type": "code",
   "execution_count": 9,
   "metadata": {
    "colab": {
     "base_uri": "https://localhost:8080/",
     "height": 297
    },
    "colab_type": "code",
    "id": "PbJhPf6hj0Qh",
    "outputId": "84ab8063-d8a3-4347-e418-c668fdd33d61"
   },
   "outputs": [
    {
     "data": {
      "text/html": [
       "<div>\n",
       "<style scoped>\n",
       "    .dataframe tbody tr th:only-of-type {\n",
       "        vertical-align: middle;\n",
       "    }\n",
       "\n",
       "    .dataframe tbody tr th {\n",
       "        vertical-align: top;\n",
       "    }\n",
       "\n",
       "    .dataframe thead th {\n",
       "        text-align: right;\n",
       "    }\n",
       "</style>\n",
       "<table border=\"1\" class=\"dataframe\">\n",
       "  <thead>\n",
       "    <tr style=\"text-align: right;\">\n",
       "      <th></th>\n",
       "      <th>vendor_id</th>\n",
       "      <th>passenger_count</th>\n",
       "      <th>pickup_longitude</th>\n",
       "      <th>pickup_latitude</th>\n",
       "      <th>dropoff_longitude</th>\n",
       "      <th>dropoff_latitude</th>\n",
       "      <th>trip_duration</th>\n",
       "    </tr>\n",
       "  </thead>\n",
       "  <tbody>\n",
       "    <tr>\n",
       "      <th>count</th>\n",
       "      <td>1.458644e+06</td>\n",
       "      <td>1.458644e+06</td>\n",
       "      <td>1.458644e+06</td>\n",
       "      <td>1.458644e+06</td>\n",
       "      <td>1.458644e+06</td>\n",
       "      <td>1.458644e+06</td>\n",
       "      <td>1.458644e+06</td>\n",
       "    </tr>\n",
       "    <tr>\n",
       "      <th>mean</th>\n",
       "      <td>1.534950e+00</td>\n",
       "      <td>1.664530e+00</td>\n",
       "      <td>-7.397349e+01</td>\n",
       "      <td>4.075092e+01</td>\n",
       "      <td>-7.397342e+01</td>\n",
       "      <td>4.075180e+01</td>\n",
       "      <td>9.594923e+02</td>\n",
       "    </tr>\n",
       "    <tr>\n",
       "      <th>std</th>\n",
       "      <td>4.987772e-01</td>\n",
       "      <td>1.314242e+00</td>\n",
       "      <td>7.090186e-02</td>\n",
       "      <td>3.288119e-02</td>\n",
       "      <td>7.064327e-02</td>\n",
       "      <td>3.589056e-02</td>\n",
       "      <td>5.237432e+03</td>\n",
       "    </tr>\n",
       "    <tr>\n",
       "      <th>min</th>\n",
       "      <td>1.000000e+00</td>\n",
       "      <td>0.000000e+00</td>\n",
       "      <td>-1.219333e+02</td>\n",
       "      <td>3.435970e+01</td>\n",
       "      <td>-1.219333e+02</td>\n",
       "      <td>3.218114e+01</td>\n",
       "      <td>1.000000e+00</td>\n",
       "    </tr>\n",
       "    <tr>\n",
       "      <th>25%</th>\n",
       "      <td>1.000000e+00</td>\n",
       "      <td>1.000000e+00</td>\n",
       "      <td>-7.399187e+01</td>\n",
       "      <td>4.073735e+01</td>\n",
       "      <td>-7.399133e+01</td>\n",
       "      <td>4.073588e+01</td>\n",
       "      <td>3.970000e+02</td>\n",
       "    </tr>\n",
       "    <tr>\n",
       "      <th>50%</th>\n",
       "      <td>2.000000e+00</td>\n",
       "      <td>1.000000e+00</td>\n",
       "      <td>-7.398174e+01</td>\n",
       "      <td>4.075410e+01</td>\n",
       "      <td>-7.397975e+01</td>\n",
       "      <td>4.075452e+01</td>\n",
       "      <td>6.620000e+02</td>\n",
       "    </tr>\n",
       "    <tr>\n",
       "      <th>75%</th>\n",
       "      <td>2.000000e+00</td>\n",
       "      <td>2.000000e+00</td>\n",
       "      <td>-7.396733e+01</td>\n",
       "      <td>4.076836e+01</td>\n",
       "      <td>-7.396301e+01</td>\n",
       "      <td>4.076981e+01</td>\n",
       "      <td>1.075000e+03</td>\n",
       "    </tr>\n",
       "    <tr>\n",
       "      <th>max</th>\n",
       "      <td>2.000000e+00</td>\n",
       "      <td>9.000000e+00</td>\n",
       "      <td>-6.133553e+01</td>\n",
       "      <td>5.188108e+01</td>\n",
       "      <td>-6.133553e+01</td>\n",
       "      <td>4.392103e+01</td>\n",
       "      <td>3.526282e+06</td>\n",
       "    </tr>\n",
       "  </tbody>\n",
       "</table>\n",
       "</div>"
      ],
      "text/plain": [
       "          vendor_id  passenger_count  pickup_longitude  pickup_latitude  \\\n",
       "count  1.458644e+06     1.458644e+06      1.458644e+06     1.458644e+06   \n",
       "mean   1.534950e+00     1.664530e+00     -7.397349e+01     4.075092e+01   \n",
       "std    4.987772e-01     1.314242e+00      7.090186e-02     3.288119e-02   \n",
       "min    1.000000e+00     0.000000e+00     -1.219333e+02     3.435970e+01   \n",
       "25%    1.000000e+00     1.000000e+00     -7.399187e+01     4.073735e+01   \n",
       "50%    2.000000e+00     1.000000e+00     -7.398174e+01     4.075410e+01   \n",
       "75%    2.000000e+00     2.000000e+00     -7.396733e+01     4.076836e+01   \n",
       "max    2.000000e+00     9.000000e+00     -6.133553e+01     5.188108e+01   \n",
       "\n",
       "       dropoff_longitude  dropoff_latitude  trip_duration  \n",
       "count       1.458644e+06      1.458644e+06   1.458644e+06  \n",
       "mean       -7.397342e+01      4.075180e+01   9.594923e+02  \n",
       "std         7.064327e-02      3.589056e-02   5.237432e+03  \n",
       "min        -1.219333e+02      3.218114e+01   1.000000e+00  \n",
       "25%        -7.399133e+01      4.073588e+01   3.970000e+02  \n",
       "50%        -7.397975e+01      4.075452e+01   6.620000e+02  \n",
       "75%        -7.396301e+01      4.076981e+01   1.075000e+03  \n",
       "max        -6.133553e+01      4.392103e+01   3.526282e+06  "
      ]
     },
     "execution_count": 9,
     "metadata": {
      "tags": []
     },
     "output_type": "execute_result"
    }
   ],
   "source": [
    "#EDA on the training dataset\n",
    "df_taxi_train.describe()"
   ]
  },
  {
   "cell_type": "code",
   "execution_count": 10,
   "metadata": {
    "colab": {
     "base_uri": "https://localhost:8080/",
     "height": 603
    },
    "colab_type": "code",
    "id": "DiGaCW3EQBAw",
    "outputId": "f8ba2baa-78a7-40a1-b980-cb75d7760cf5"
   },
   "outputs": [
    {
     "name": "stdout",
     "output_type": "stream",
     "text": [
      "<class 'pandas.core.frame.DataFrame'>\n",
      "Int64Index: 1458644 entries, 0 to 1458643\n",
      "Data columns (total 13 columns):\n",
      "id                    1458644 non-null object\n",
      "vendor_id             1458644 non-null int64\n",
      "pickup_datetime       1458644 non-null object\n",
      "dropoff_datetime      1458644 non-null object\n",
      "passenger_count       1458644 non-null int64\n",
      "pickup_longitude      1458644 non-null float64\n",
      "pickup_latitude       1458644 non-null float64\n",
      "dropoff_longitude     1458644 non-null float64\n",
      "dropoff_latitude      1458644 non-null float64\n",
      "store_and_fwd_flag    1458644 non-null object\n",
      "trip_duration         1458644 non-null int64\n",
      "total_distance        1458643 non-null float64\n",
      "number_of_steps       1458643 non-null float64\n",
      "dtypes: float64(6), int64(3), object(4)\n",
      "memory usage: 155.8+ MB\n"
     ]
    },
    {
     "data": {
      "text/html": [
       "<div>\n",
       "<style scoped>\n",
       "    .dataframe tbody tr th:only-of-type {\n",
       "        vertical-align: middle;\n",
       "    }\n",
       "\n",
       "    .dataframe tbody tr th {\n",
       "        vertical-align: top;\n",
       "    }\n",
       "\n",
       "    .dataframe thead th {\n",
       "        text-align: right;\n",
       "    }\n",
       "</style>\n",
       "<table border=\"1\" class=\"dataframe\">\n",
       "  <thead>\n",
       "    <tr style=\"text-align: right;\">\n",
       "      <th></th>\n",
       "      <th>vendor_id</th>\n",
       "      <th>passenger_count</th>\n",
       "      <th>pickup_longitude</th>\n",
       "      <th>pickup_latitude</th>\n",
       "      <th>dropoff_longitude</th>\n",
       "      <th>dropoff_latitude</th>\n",
       "      <th>trip_duration</th>\n",
       "      <th>total_distance</th>\n",
       "      <th>number_of_steps</th>\n",
       "    </tr>\n",
       "  </thead>\n",
       "  <tbody>\n",
       "    <tr>\n",
       "      <th>count</th>\n",
       "      <td>1.458644e+06</td>\n",
       "      <td>1.458644e+06</td>\n",
       "      <td>1.458644e+06</td>\n",
       "      <td>1.458644e+06</td>\n",
       "      <td>1.458644e+06</td>\n",
       "      <td>1.458644e+06</td>\n",
       "      <td>1.458644e+06</td>\n",
       "      <td>1.458643e+06</td>\n",
       "      <td>1.458643e+06</td>\n",
       "    </tr>\n",
       "    <tr>\n",
       "      <th>mean</th>\n",
       "      <td>1.534950e+00</td>\n",
       "      <td>1.664530e+00</td>\n",
       "      <td>-7.397349e+01</td>\n",
       "      <td>4.075092e+01</td>\n",
       "      <td>-7.397342e+01</td>\n",
       "      <td>4.075180e+01</td>\n",
       "      <td>9.594923e+02</td>\n",
       "      <td>4.626383e+03</td>\n",
       "      <td>7.547126e+00</td>\n",
       "    </tr>\n",
       "    <tr>\n",
       "      <th>std</th>\n",
       "      <td>4.987772e-01</td>\n",
       "      <td>1.314242e+00</td>\n",
       "      <td>7.090186e-02</td>\n",
       "      <td>3.288119e-02</td>\n",
       "      <td>7.064327e-02</td>\n",
       "      <td>3.589056e-02</td>\n",
       "      <td>5.237432e+03</td>\n",
       "      <td>5.303878e+03</td>\n",
       "      <td>4.432504e+00</td>\n",
       "    </tr>\n",
       "    <tr>\n",
       "      <th>min</th>\n",
       "      <td>1.000000e+00</td>\n",
       "      <td>0.000000e+00</td>\n",
       "      <td>-1.219333e+02</td>\n",
       "      <td>3.435970e+01</td>\n",
       "      <td>-1.219333e+02</td>\n",
       "      <td>3.218114e+01</td>\n",
       "      <td>1.000000e+00</td>\n",
       "      <td>0.000000e+00</td>\n",
       "      <td>2.000000e+00</td>\n",
       "    </tr>\n",
       "    <tr>\n",
       "      <th>25%</th>\n",
       "      <td>1.000000e+00</td>\n",
       "      <td>1.000000e+00</td>\n",
       "      <td>-7.399187e+01</td>\n",
       "      <td>4.073735e+01</td>\n",
       "      <td>-7.399133e+01</td>\n",
       "      <td>4.073588e+01</td>\n",
       "      <td>3.970000e+02</td>\n",
       "      <td>1.666100e+03</td>\n",
       "      <td>5.000000e+00</td>\n",
       "    </tr>\n",
       "    <tr>\n",
       "      <th>50%</th>\n",
       "      <td>2.000000e+00</td>\n",
       "      <td>1.000000e+00</td>\n",
       "      <td>-7.398174e+01</td>\n",
       "      <td>4.075410e+01</td>\n",
       "      <td>-7.397975e+01</td>\n",
       "      <td>4.075452e+01</td>\n",
       "      <td>6.620000e+02</td>\n",
       "      <td>2.755100e+03</td>\n",
       "      <td>6.000000e+00</td>\n",
       "    </tr>\n",
       "    <tr>\n",
       "      <th>75%</th>\n",
       "      <td>2.000000e+00</td>\n",
       "      <td>2.000000e+00</td>\n",
       "      <td>-7.396733e+01</td>\n",
       "      <td>4.076836e+01</td>\n",
       "      <td>-7.396301e+01</td>\n",
       "      <td>4.076981e+01</td>\n",
       "      <td>1.075000e+03</td>\n",
       "      <td>5.113800e+03</td>\n",
       "      <td>9.000000e+00</td>\n",
       "    </tr>\n",
       "    <tr>\n",
       "      <th>max</th>\n",
       "      <td>2.000000e+00</td>\n",
       "      <td>9.000000e+00</td>\n",
       "      <td>-6.133553e+01</td>\n",
       "      <td>5.188108e+01</td>\n",
       "      <td>-6.133553e+01</td>\n",
       "      <td>4.392103e+01</td>\n",
       "      <td>3.526282e+06</td>\n",
       "      <td>9.420420e+04</td>\n",
       "      <td>4.600000e+01</td>\n",
       "    </tr>\n",
       "  </tbody>\n",
       "</table>\n",
       "</div>"
      ],
      "text/plain": [
       "          vendor_id  passenger_count  pickup_longitude  pickup_latitude  \\\n",
       "count  1.458644e+06     1.458644e+06      1.458644e+06     1.458644e+06   \n",
       "mean   1.534950e+00     1.664530e+00     -7.397349e+01     4.075092e+01   \n",
       "std    4.987772e-01     1.314242e+00      7.090186e-02     3.288119e-02   \n",
       "min    1.000000e+00     0.000000e+00     -1.219333e+02     3.435970e+01   \n",
       "25%    1.000000e+00     1.000000e+00     -7.399187e+01     4.073735e+01   \n",
       "50%    2.000000e+00     1.000000e+00     -7.398174e+01     4.075410e+01   \n",
       "75%    2.000000e+00     2.000000e+00     -7.396733e+01     4.076836e+01   \n",
       "max    2.000000e+00     9.000000e+00     -6.133553e+01     5.188108e+01   \n",
       "\n",
       "       dropoff_longitude  dropoff_latitude  trip_duration  total_distance  \\\n",
       "count       1.458644e+06      1.458644e+06   1.458644e+06    1.458643e+06   \n",
       "mean       -7.397342e+01      4.075180e+01   9.594923e+02    4.626383e+03   \n",
       "std         7.064327e-02      3.589056e-02   5.237432e+03    5.303878e+03   \n",
       "min        -1.219333e+02      3.218114e+01   1.000000e+00    0.000000e+00   \n",
       "25%        -7.399133e+01      4.073588e+01   3.970000e+02    1.666100e+03   \n",
       "50%        -7.397975e+01      4.075452e+01   6.620000e+02    2.755100e+03   \n",
       "75%        -7.396301e+01      4.076981e+01   1.075000e+03    5.113800e+03   \n",
       "max        -6.133553e+01      4.392103e+01   3.526282e+06    9.420420e+04   \n",
       "\n",
       "       number_of_steps  \n",
       "count     1.458643e+06  \n",
       "mean      7.547126e+00  \n",
       "std       4.432504e+00  \n",
       "min       2.000000e+00  \n",
       "25%       5.000000e+00  \n",
       "50%       6.000000e+00  \n",
       "75%       9.000000e+00  \n",
       "max       4.600000e+01  "
      ]
     },
     "execution_count": 10,
     "metadata": {
      "tags": []
     },
     "output_type": "execute_result"
    }
   ],
   "source": [
    "#Merge Taxi Training data and OSRM data \n",
    "df_taxi_osrm_merged = pd.merge(df_taxi_train, df_fr_train, how='left', on='id')\n",
    "\n",
    "df_taxi_osrm_merged.info()\n",
    "\n",
    "df_taxi_osrm_merged.describe()"
   ]
  },
  {
   "cell_type": "code",
   "execution_count": 11,
   "metadata": {
    "colab": {
     "base_uri": "https://localhost:8080/",
     "height": 722
    },
    "colab_type": "code",
    "id": "umFOcNxqRN2x",
    "outputId": "5a2c55b9-6a3a-4a1d-b14c-8441debff5f1"
   },
   "outputs": [
    {
     "name": "stdout",
     "output_type": "stream",
     "text": [
      "<class 'pandas.core.frame.DataFrame'>\n",
      "Int64Index: 625134 entries, 0 to 625133\n",
      "Data columns (total 20 columns):\n",
      "id                      625134 non-null object\n",
      "vendor_id               625134 non-null int64\n",
      "pickup_datetime         625134 non-null object\n",
      "passenger_count         625134 non-null int64\n",
      "pickup_longitude        625134 non-null float64\n",
      "pickup_latitude         625134 non-null float64\n",
      "dropoff_longitude       625134 non-null float64\n",
      "dropoff_latitude        625134 non-null float64\n",
      "store_and_fwd_flag      625134 non-null object\n",
      "starting_street         625134 non-null object\n",
      "end_street              625134 non-null object\n",
      "total_distance          625134 non-null float64\n",
      "total_travel_time       625134 non-null float64\n",
      "number_of_steps         625134 non-null int64\n",
      "street_for_each_step    625134 non-null object\n",
      "distance_per_step       625134 non-null object\n",
      "travel_time_per_step    625134 non-null object\n",
      "step_maneuvers          625134 non-null object\n",
      "step_direction          625134 non-null object\n",
      "step_location_list      625134 non-null object\n",
      "dtypes: float64(6), int64(3), object(11)\n",
      "memory usage: 100.2+ MB\n"
     ]
    },
    {
     "data": {
      "text/html": [
       "<div>\n",
       "<style scoped>\n",
       "    .dataframe tbody tr th:only-of-type {\n",
       "        vertical-align: middle;\n",
       "    }\n",
       "\n",
       "    .dataframe tbody tr th {\n",
       "        vertical-align: top;\n",
       "    }\n",
       "\n",
       "    .dataframe thead th {\n",
       "        text-align: right;\n",
       "    }\n",
       "</style>\n",
       "<table border=\"1\" class=\"dataframe\">\n",
       "  <thead>\n",
       "    <tr style=\"text-align: right;\">\n",
       "      <th></th>\n",
       "      <th>vendor_id</th>\n",
       "      <th>passenger_count</th>\n",
       "      <th>pickup_longitude</th>\n",
       "      <th>pickup_latitude</th>\n",
       "      <th>dropoff_longitude</th>\n",
       "      <th>dropoff_latitude</th>\n",
       "      <th>total_distance</th>\n",
       "      <th>total_travel_time</th>\n",
       "      <th>number_of_steps</th>\n",
       "    </tr>\n",
       "  </thead>\n",
       "  <tbody>\n",
       "    <tr>\n",
       "      <th>count</th>\n",
       "      <td>625134.000000</td>\n",
       "      <td>625134.000000</td>\n",
       "      <td>625134.000000</td>\n",
       "      <td>625134.000000</td>\n",
       "      <td>625134.000000</td>\n",
       "      <td>625134.000000</td>\n",
       "      <td>625134.000000</td>\n",
       "      <td>625134.000000</td>\n",
       "      <td>625134.000000</td>\n",
       "    </tr>\n",
       "    <tr>\n",
       "      <th>mean</th>\n",
       "      <td>1.534884</td>\n",
       "      <td>1.661765</td>\n",
       "      <td>-73.973614</td>\n",
       "      <td>40.750927</td>\n",
       "      <td>-73.973458</td>\n",
       "      <td>40.751816</td>\n",
       "      <td>4616.899919</td>\n",
       "      <td>388.926100</td>\n",
       "      <td>7.545392</td>\n",
       "    </tr>\n",
       "    <tr>\n",
       "      <th>std</th>\n",
       "      <td>0.498782</td>\n",
       "      <td>1.311293</td>\n",
       "      <td>0.073389</td>\n",
       "      <td>0.029848</td>\n",
       "      <td>0.072565</td>\n",
       "      <td>0.035824</td>\n",
       "      <td>5279.273407</td>\n",
       "      <td>313.726758</td>\n",
       "      <td>4.435818</td>\n",
       "    </tr>\n",
       "    <tr>\n",
       "      <th>min</th>\n",
       "      <td>1.000000</td>\n",
       "      <td>0.000000</td>\n",
       "      <td>-121.933128</td>\n",
       "      <td>37.389587</td>\n",
       "      <td>-121.933327</td>\n",
       "      <td>36.601322</td>\n",
       "      <td>0.000000</td>\n",
       "      <td>0.000000</td>\n",
       "      <td>2.000000</td>\n",
       "    </tr>\n",
       "    <tr>\n",
       "      <th>25%</th>\n",
       "      <td>1.000000</td>\n",
       "      <td>1.000000</td>\n",
       "      <td>-73.991852</td>\n",
       "      <td>40.737392</td>\n",
       "      <td>-73.991318</td>\n",
       "      <td>40.736000</td>\n",
       "      <td>1665.400000</td>\n",
       "      <td>181.500000</td>\n",
       "      <td>5.000000</td>\n",
       "    </tr>\n",
       "    <tr>\n",
       "      <th>50%</th>\n",
       "      <td>2.000000</td>\n",
       "      <td>1.000000</td>\n",
       "      <td>-73.981743</td>\n",
       "      <td>40.754093</td>\n",
       "      <td>-73.979774</td>\n",
       "      <td>40.754543</td>\n",
       "      <td>2754.650000</td>\n",
       "      <td>289.300000</td>\n",
       "      <td>6.000000</td>\n",
       "    </tr>\n",
       "    <tr>\n",
       "      <th>75%</th>\n",
       "      <td>2.000000</td>\n",
       "      <td>2.000000</td>\n",
       "      <td>-73.967400</td>\n",
       "      <td>40.768394</td>\n",
       "      <td>-73.963013</td>\n",
       "      <td>40.769852</td>\n",
       "      <td>5116.300000</td>\n",
       "      <td>490.600000</td>\n",
       "      <td>9.000000</td>\n",
       "    </tr>\n",
       "    <tr>\n",
       "      <th>max</th>\n",
       "      <td>2.000000</td>\n",
       "      <td>9.000000</td>\n",
       "      <td>-69.248917</td>\n",
       "      <td>42.814938</td>\n",
       "      <td>-67.496796</td>\n",
       "      <td>48.857597</td>\n",
       "      <td>91521.700000</td>\n",
       "      <td>4578.100000</td>\n",
       "      <td>50.000000</td>\n",
       "    </tr>\n",
       "  </tbody>\n",
       "</table>\n",
       "</div>"
      ],
      "text/plain": [
       "           vendor_id  passenger_count  pickup_longitude  pickup_latitude  \\\n",
       "count  625134.000000    625134.000000     625134.000000    625134.000000   \n",
       "mean        1.534884         1.661765        -73.973614        40.750927   \n",
       "std         0.498782         1.311293          0.073389         0.029848   \n",
       "min         1.000000         0.000000       -121.933128        37.389587   \n",
       "25%         1.000000         1.000000        -73.991852        40.737392   \n",
       "50%         2.000000         1.000000        -73.981743        40.754093   \n",
       "75%         2.000000         2.000000        -73.967400        40.768394   \n",
       "max         2.000000         9.000000        -69.248917        42.814938   \n",
       "\n",
       "       dropoff_longitude  dropoff_latitude  total_distance  total_travel_time  \\\n",
       "count      625134.000000     625134.000000   625134.000000      625134.000000   \n",
       "mean          -73.973458         40.751816     4616.899919         388.926100   \n",
       "std             0.072565          0.035824     5279.273407         313.726758   \n",
       "min          -121.933327         36.601322        0.000000           0.000000   \n",
       "25%           -73.991318         40.736000     1665.400000         181.500000   \n",
       "50%           -73.979774         40.754543     2754.650000         289.300000   \n",
       "75%           -73.963013         40.769852     5116.300000         490.600000   \n",
       "max           -67.496796         48.857597    91521.700000        4578.100000   \n",
       "\n",
       "       number_of_steps  \n",
       "count    625134.000000  \n",
       "mean          7.545392  \n",
       "std           4.435818  \n",
       "min           2.000000  \n",
       "25%           5.000000  \n",
       "50%           6.000000  \n",
       "75%           9.000000  \n",
       "max          50.000000  "
      ]
     },
     "execution_count": 11,
     "metadata": {
      "tags": []
     },
     "output_type": "execute_result"
    }
   ],
   "source": [
    "#Merge Taxi Test data and OSRM Test data \n",
    "df_taxi_osrm_test_merged = pd.merge(df_taxi_test, df_fr_test, how='left', on='id')\n",
    "\n",
    "df_taxi_osrm_test_merged.info()\n",
    "\n",
    "df_taxi_osrm_test_merged.describe()"
   ]
  },
  {
   "cell_type": "code",
   "execution_count": 0,
   "metadata": {
    "colab": {},
    "colab_type": "code",
    "id": "5vIDUVrpkUrh"
   },
   "outputs": [],
   "source": [
    "#Create a subset where trip duration in greater than 100 and less than 10000 to train\n",
    "df_taxi_osrm_merged =df_taxi_osrm_merged[(df_taxi_osrm_merged.trip_duration < 10000) & (df_taxi_osrm_merged.trip_duration > 100)]\n",
    "\n",
    "#drop id and store_and_fwd_flag\n",
    "df_taxi_osrm_merged.drop([\"id\"], axis=1, inplace=True)\n",
    "df_taxi_osrm_merged.drop([\"store_and_fwd_flag\"], axis=1, inplace=True)\n",
    "\n"
   ]
  },
  {
   "cell_type": "code",
   "execution_count": 0,
   "metadata": {
    "colab": {},
    "colab_type": "code",
    "id": "LN_5497cmJB8"
   },
   "outputs": [],
   "source": [
    "#convert pickup_datetime to date datatype in training data\n",
    "df_taxi_osrm_merged[\"pickup_datetime\"] = pd.to_datetime(df_taxi_osrm_merged.pickup_datetime)\n",
    "\n",
    "#convert pickup_datetime to date datatype in test data\n",
    "df_taxi_osrm_test_merged[\"pickup_datetime\"] = pd.to_datetime(df_taxi_osrm_test_merged.pickup_datetime)\n",
    "\n",
    "#Add date column to train dataset\n",
    "#df_taxi_osrm_merged['DATE'] = df_taxi_osrm_merged['pickup_datetime'].dt.date\n",
    "#df_taxi_osrm_merged.info()\n",
    "\n",
    "#Add date column to test dataset\n",
    "#df_taxi_osrm_test_merged['DATE'] = df_taxi_osrm_test_merged['pickup_datetime'].dt.date\n",
    "#df_taxi_osrm_test_merged.info()"
   ]
  },
  {
   "cell_type": "code",
   "execution_count": 14,
   "metadata": {
    "colab": {
     "base_uri": "https://localhost:8080/",
     "height": 442
    },
    "colab_type": "code",
    "id": "cJJW3Hona9_P",
    "outputId": "40fe4be6-86cb-45c7-c010-33f6dfc331a1"
   },
   "outputs": [
    {
     "name": "stdout",
     "output_type": "stream",
     "text": [
      "<class 'pandas.core.frame.DataFrame'>\n",
      "Int64Index: 625134 entries, 0 to 625133\n",
      "Data columns (total 20 columns):\n",
      "id                      625134 non-null object\n",
      "vendor_id               625134 non-null int64\n",
      "pickup_datetime         625134 non-null datetime64[ns]\n",
      "passenger_count         625134 non-null int64\n",
      "pickup_longitude        625134 non-null float64\n",
      "pickup_latitude         625134 non-null float64\n",
      "dropoff_longitude       625134 non-null float64\n",
      "dropoff_latitude        625134 non-null float64\n",
      "store_and_fwd_flag      625134 non-null object\n",
      "starting_street         625134 non-null object\n",
      "end_street              625134 non-null object\n",
      "total_distance          625134 non-null float64\n",
      "total_travel_time       625134 non-null float64\n",
      "number_of_steps         625134 non-null int64\n",
      "street_for_each_step    625134 non-null object\n",
      "distance_per_step       625134 non-null object\n",
      "travel_time_per_step    625134 non-null object\n",
      "step_maneuvers          625134 non-null object\n",
      "step_direction          625134 non-null object\n",
      "step_location_list      625134 non-null object\n",
      "dtypes: datetime64[ns](1), float64(6), int64(3), object(10)\n",
      "memory usage: 100.2+ MB\n"
     ]
    }
   ],
   "source": [
    "df_taxi_osrm_test_merged.info()"
   ]
  },
  {
   "cell_type": "code",
   "execution_count": 0,
   "metadata": {
    "colab": {},
    "colab_type": "code",
    "id": "slVqmDv6b_op"
   },
   "outputs": [],
   "source": [
    "#Add Temporal columns to both test and training data\n",
    "df_taxi_osrm_merged['week'] = df_taxi_osrm_merged.pickup_datetime.dt.week\n",
    "df_taxi_osrm_merged['weekday'] = df_taxi_osrm_merged.pickup_datetime.dt.weekday\n",
    "df_taxi_osrm_merged['hour'] = df_taxi_osrm_merged.pickup_datetime.dt.hour\n",
    "df_taxi_osrm_merged.drop(['pickup_datetime'], axis=1, inplace=True)\n"
   ]
  },
  {
   "cell_type": "code",
   "execution_count": 0,
   "metadata": {
    "colab": {},
    "colab_type": "code",
    "id": "I-c-5x09morU"
   },
   "outputs": [],
   "source": [
    "#Add Temporal columns to both test and training data\n",
    "df_taxi_osrm_test_merged['week'] = df_taxi_osrm_test_merged.pickup_datetime.dt.week\n",
    "df_taxi_osrm_test_merged['weekday'] = df_taxi_osrm_test_merged.pickup_datetime.dt.weekday\n",
    "df_taxi_osrm_test_merged['hour'] = df_taxi_osrm_test_merged.pickup_datetime.dt.hour\n",
    "df_taxi_osrm_test_merged.drop(['pickup_datetime'], axis=1, inplace=True)\n"
   ]
  },
  {
   "cell_type": "code",
   "execution_count": 0,
   "metadata": {
    "colab": {},
    "colab_type": "code",
    "id": "Qia3h0W-Gs7W"
   },
   "outputs": [],
   "source": [
    "df_taxi_osrm_merged = df_taxi_osrm_merged.rename(index=str, columns={\"pickup_latitude\": \"LATITUDE\", \"pickup_longitude\": \"LONGITUDE\"})"
   ]
  },
  {
   "cell_type": "code",
   "execution_count": 18,
   "metadata": {
    "colab": {
     "base_uri": "https://localhost:8080/",
     "height": 250
    },
    "colab_type": "code",
    "id": "D0gLLYlab1LH",
    "outputId": "77c48bf0-2e21-4f31-fd61-1a8e6903b881"
   },
   "outputs": [
    {
     "data": {
      "text/html": [
       "<style  type=\"text/css\" >\n",
       "    #T_18555abc_4db6_11e9_8913_0242ac1c0002row0_col0 {\n",
       "            background-color:  #023858;\n",
       "        }    #T_18555abc_4db6_11e9_8913_0242ac1c0002row0_col1 {\n",
       "            background-color:  #046299;\n",
       "        }    #T_18555abc_4db6_11e9_8913_0242ac1c0002row0_col2 {\n",
       "            background-color:  #faf2f8;\n",
       "        }    #T_18555abc_4db6_11e9_8913_0242ac1c0002row0_col3 {\n",
       "            background-color:  #f2ecf5;\n",
       "        }    #T_18555abc_4db6_11e9_8913_0242ac1c0002row0_col4 {\n",
       "            background-color:  #f6eff7;\n",
       "        }    #T_18555abc_4db6_11e9_8913_0242ac1c0002row0_col5 {\n",
       "            background-color:  #04649e;\n",
       "        }    #T_18555abc_4db6_11e9_8913_0242ac1c0002row0_col6 {\n",
       "            background-color:  #fff7fb;\n",
       "        }    #T_18555abc_4db6_11e9_8913_0242ac1c0002row0_col7 {\n",
       "            background-color:  #4697c4;\n",
       "        }    #T_18555abc_4db6_11e9_8913_0242ac1c0002row0_col8 {\n",
       "            background-color:  #abbfdc;\n",
       "        }    #T_18555abc_4db6_11e9_8913_0242ac1c0002row0_col9 {\n",
       "            background-color:  #fbf4f9;\n",
       "        }    #T_18555abc_4db6_11e9_8913_0242ac1c0002row1_col0 {\n",
       "            background-color:  #046096;\n",
       "        }    #T_18555abc_4db6_11e9_8913_0242ac1c0002row1_col1 {\n",
       "            background-color:  #023858;\n",
       "        }    #T_18555abc_4db6_11e9_8913_0242ac1c0002row1_col2 {\n",
       "            background-color:  #faf3f9;\n",
       "        }    #T_18555abc_4db6_11e9_8913_0242ac1c0002row1_col3 {\n",
       "            background-color:  #f1ebf4;\n",
       "        }    #T_18555abc_4db6_11e9_8913_0242ac1c0002row1_col4 {\n",
       "            background-color:  #f7f0f7;\n",
       "        }    #T_18555abc_4db6_11e9_8913_0242ac1c0002row1_col5 {\n",
       "            background-color:  #0c74b2;\n",
       "        }    #T_18555abc_4db6_11e9_8913_0242ac1c0002row1_col6 {\n",
       "            background-color:  #f7f0f7;\n",
       "        }    #T_18555abc_4db6_11e9_8913_0242ac1c0002row1_col7 {\n",
       "            background-color:  #93b5d6;\n",
       "        }    #T_18555abc_4db6_11e9_8913_0242ac1c0002row1_col8 {\n",
       "            background-color:  #bfc9e1;\n",
       "        }    #T_18555abc_4db6_11e9_8913_0242ac1c0002row1_col9 {\n",
       "            background-color:  #fff7fb;\n",
       "        }    #T_18555abc_4db6_11e9_8913_0242ac1c0002row2_col0 {\n",
       "            background-color:  #d2d2e7;\n",
       "        }    #T_18555abc_4db6_11e9_8913_0242ac1c0002row2_col1 {\n",
       "            background-color:  #dcdaeb;\n",
       "        }    #T_18555abc_4db6_11e9_8913_0242ac1c0002row2_col2 {\n",
       "            background-color:  #023858;\n",
       "        }    #T_18555abc_4db6_11e9_8913_0242ac1c0002row2_col3 {\n",
       "            background-color:  #eee9f3;\n",
       "        }    #T_18555abc_4db6_11e9_8913_0242ac1c0002row2_col4 {\n",
       "            background-color:  #f6eff7;\n",
       "        }    #T_18555abc_4db6_11e9_8913_0242ac1c0002row2_col5 {\n",
       "            background-color:  #d9d8ea;\n",
       "        }    #T_18555abc_4db6_11e9_8913_0242ac1c0002row2_col6 {\n",
       "            background-color:  #d7d6e9;\n",
       "        }    #T_18555abc_4db6_11e9_8913_0242ac1c0002row2_col7 {\n",
       "            background-color:  #ede7f2;\n",
       "        }    #T_18555abc_4db6_11e9_8913_0242ac1c0002row2_col8 {\n",
       "            background-color:  #f8f1f8;\n",
       "        }    #T_18555abc_4db6_11e9_8913_0242ac1c0002row2_col9 {\n",
       "            background-color:  #e5e1ef;\n",
       "        }    #T_18555abc_4db6_11e9_8913_0242ac1c0002row3_col0 {\n",
       "            background-color:  #d4d4e8;\n",
       "        }    #T_18555abc_4db6_11e9_8913_0242ac1c0002row3_col1 {\n",
       "            background-color:  #dcdaeb;\n",
       "        }    #T_18555abc_4db6_11e9_8913_0242ac1c0002row3_col2 {\n",
       "            background-color:  #f7f0f7;\n",
       "        }    #T_18555abc_4db6_11e9_8913_0242ac1c0002row3_col3 {\n",
       "            background-color:  #023858;\n",
       "        }    #T_18555abc_4db6_11e9_8913_0242ac1c0002row3_col4 {\n",
       "            background-color:  #fff7fb;\n",
       "        }    #T_18555abc_4db6_11e9_8913_0242ac1c0002row3_col5 {\n",
       "            background-color:  #e6e2ef;\n",
       "        }    #T_18555abc_4db6_11e9_8913_0242ac1c0002row3_col6 {\n",
       "            background-color:  #dbdaeb;\n",
       "        }    #T_18555abc_4db6_11e9_8913_0242ac1c0002row3_col7 {\n",
       "            background-color:  #f2ecf5;\n",
       "        }    #T_18555abc_4db6_11e9_8913_0242ac1c0002row3_col8 {\n",
       "            background-color:  #f9f2f8;\n",
       "        }    #T_18555abc_4db6_11e9_8913_0242ac1c0002row3_col9 {\n",
       "            background-color:  #e8e4f0;\n",
       "        }    #T_18555abc_4db6_11e9_8913_0242ac1c0002row4_col0 {\n",
       "            background-color:  #d9d8ea;\n",
       "        }    #T_18555abc_4db6_11e9_8913_0242ac1c0002row4_col1 {\n",
       "            background-color:  #e3e0ee;\n",
       "        }    #T_18555abc_4db6_11e9_8913_0242ac1c0002row4_col2 {\n",
       "            background-color:  #fff7fb;\n",
       "        }    #T_18555abc_4db6_11e9_8913_0242ac1c0002row4_col3 {\n",
       "            background-color:  #fff7fb;\n",
       "        }    #T_18555abc_4db6_11e9_8913_0242ac1c0002row4_col4 {\n",
       "            background-color:  #023858;\n",
       "        }    #T_18555abc_4db6_11e9_8913_0242ac1c0002row4_col5 {\n",
       "            background-color:  #dad9ea;\n",
       "        }    #T_18555abc_4db6_11e9_8913_0242ac1c0002row4_col6 {\n",
       "            background-color:  #d3d4e7;\n",
       "        }    #T_18555abc_4db6_11e9_8913_0242ac1c0002row4_col7 {\n",
       "            background-color:  #ebe6f2;\n",
       "        }    #T_18555abc_4db6_11e9_8913_0242ac1c0002row4_col8 {\n",
       "            background-color:  #fff7fb;\n",
       "        }    #T_18555abc_4db6_11e9_8913_0242ac1c0002row4_col9 {\n",
       "            background-color:  #e1dfed;\n",
       "        }    #T_18555abc_4db6_11e9_8913_0242ac1c0002row5_col0 {\n",
       "            background-color:  #04629a;\n",
       "        }    #T_18555abc_4db6_11e9_8913_0242ac1c0002row5_col1 {\n",
       "            background-color:  #0c74b2;\n",
       "        }    #T_18555abc_4db6_11e9_8913_0242ac1c0002row5_col2 {\n",
       "            background-color:  #f7f0f7;\n",
       "        }    #T_18555abc_4db6_11e9_8913_0242ac1c0002row5_col3 {\n",
       "            background-color:  #f8f1f8;\n",
       "        }    #T_18555abc_4db6_11e9_8913_0242ac1c0002row5_col4 {\n",
       "            background-color:  #f0eaf4;\n",
       "        }    #T_18555abc_4db6_11e9_8913_0242ac1c0002row5_col5 {\n",
       "            background-color:  #023858;\n",
       "        }    #T_18555abc_4db6_11e9_8913_0242ac1c0002row5_col6 {\n",
       "            background-color:  #f7f0f7;\n",
       "        }    #T_18555abc_4db6_11e9_8913_0242ac1c0002row5_col7 {\n",
       "            background-color:  #8bb2d4;\n",
       "        }    #T_18555abc_4db6_11e9_8913_0242ac1c0002row5_col8 {\n",
       "            background-color:  #d0d1e6;\n",
       "        }    #T_18555abc_4db6_11e9_8913_0242ac1c0002row5_col9 {\n",
       "            background-color:  #fdf5fa;\n",
       "        }    #T_18555abc_4db6_11e9_8913_0242ac1c0002row6_col0 {\n",
       "            background-color:  #fff7fb;\n",
       "        }    #T_18555abc_4db6_11e9_8913_0242ac1c0002row6_col1 {\n",
       "            background-color:  #fff7fb;\n",
       "        }    #T_18555abc_4db6_11e9_8913_0242ac1c0002row6_col2 {\n",
       "            background-color:  #fef6fa;\n",
       "        }    #T_18555abc_4db6_11e9_8913_0242ac1c0002row6_col3 {\n",
       "            background-color:  #f8f1f8;\n",
       "        }    #T_18555abc_4db6_11e9_8913_0242ac1c0002row6_col4 {\n",
       "            background-color:  #f2ecf5;\n",
       "        }    #T_18555abc_4db6_11e9_8913_0242ac1c0002row6_col5 {\n",
       "            background-color:  #fff7fb;\n",
       "        }    #T_18555abc_4db6_11e9_8913_0242ac1c0002row6_col6 {\n",
       "            background-color:  #023858;\n",
       "        }    #T_18555abc_4db6_11e9_8913_0242ac1c0002row6_col7 {\n",
       "            background-color:  #fff7fb;\n",
       "        }    #T_18555abc_4db6_11e9_8913_0242ac1c0002row6_col8 {\n",
       "            background-color:  #efe9f3;\n",
       "        }    #T_18555abc_4db6_11e9_8913_0242ac1c0002row6_col9 {\n",
       "            background-color:  #75a9cf;\n",
       "        }    #T_18555abc_4db6_11e9_8913_0242ac1c0002row7_col0 {\n",
       "            background-color:  #2f8bbe;\n",
       "        }    #T_18555abc_4db6_11e9_8913_0242ac1c0002row7_col1 {\n",
       "            background-color:  #80aed2;\n",
       "        }    #T_18555abc_4db6_11e9_8913_0242ac1c0002row7_col2 {\n",
       "            background-color:  #fbf3f9;\n",
       "        }    #T_18555abc_4db6_11e9_8913_0242ac1c0002row7_col3 {\n",
       "            background-color:  #f8f1f8;\n",
       "        }    #T_18555abc_4db6_11e9_8913_0242ac1c0002row7_col4 {\n",
       "            background-color:  #f1ebf4;\n",
       "        }    #T_18555abc_4db6_11e9_8913_0242ac1c0002row7_col5 {\n",
       "            background-color:  #79abd0;\n",
       "        }    #T_18555abc_4db6_11e9_8913_0242ac1c0002row7_col6 {\n",
       "            background-color:  #ece7f2;\n",
       "        }    #T_18555abc_4db6_11e9_8913_0242ac1c0002row7_col7 {\n",
       "            background-color:  #023858;\n",
       "        }    #T_18555abc_4db6_11e9_8913_0242ac1c0002row7_col8 {\n",
       "            background-color:  #cacee5;\n",
       "        }    #T_18555abc_4db6_11e9_8913_0242ac1c0002row7_col9 {\n",
       "            background-color:  #dad9ea;\n",
       "        }    #T_18555abc_4db6_11e9_8913_0242ac1c0002row8_col0 {\n",
       "            background-color:  #7bacd1;\n",
       "        }    #T_18555abc_4db6_11e9_8913_0242ac1c0002row8_col1 {\n",
       "            background-color:  #99b8d8;\n",
       "        }    #T_18555abc_4db6_11e9_8913_0242ac1c0002row8_col2 {\n",
       "            background-color:  #fbf4f9;\n",
       "        }    #T_18555abc_4db6_11e9_8913_0242ac1c0002row8_col3 {\n",
       "            background-color:  #f4edf6;\n",
       "        }    #T_18555abc_4db6_11e9_8913_0242ac1c0002row8_col4 {\n",
       "            background-color:  #faf2f8;\n",
       "        }    #T_18555abc_4db6_11e9_8913_0242ac1c0002row8_col5 {\n",
       "            background-color:  #abbfdc;\n",
       "        }    #T_18555abc_4db6_11e9_8913_0242ac1c0002row8_col6 {\n",
       "            background-color:  #c6cce3;\n",
       "        }    #T_18555abc_4db6_11e9_8913_0242ac1c0002row8_col7 {\n",
       "            background-color:  #b8c6e0;\n",
       "        }    #T_18555abc_4db6_11e9_8913_0242ac1c0002row8_col8 {\n",
       "            background-color:  #023858;\n",
       "        }    #T_18555abc_4db6_11e9_8913_0242ac1c0002row8_col9 {\n",
       "            background-color:  #d0d1e6;\n",
       "        }    #T_18555abc_4db6_11e9_8913_0242ac1c0002row9_col0 {\n",
       "            background-color:  #f0eaf4;\n",
       "        }    #T_18555abc_4db6_11e9_8913_0242ac1c0002row9_col1 {\n",
       "            background-color:  #fbf4f9;\n",
       "        }    #T_18555abc_4db6_11e9_8913_0242ac1c0002row9_col2 {\n",
       "            background-color:  #fdf5fa;\n",
       "        }    #T_18555abc_4db6_11e9_8913_0242ac1c0002row9_col3 {\n",
       "            background-color:  #f7f0f7;\n",
       "        }    #T_18555abc_4db6_11e9_8913_0242ac1c0002row9_col4 {\n",
       "            background-color:  #f1ebf5;\n",
       "        }    #T_18555abc_4db6_11e9_8913_0242ac1c0002row9_col5 {\n",
       "            background-color:  #faf2f8;\n",
       "        }    #T_18555abc_4db6_11e9_8913_0242ac1c0002row9_col6 {\n",
       "            background-color:  #62a2cb;\n",
       "        }    #T_18555abc_4db6_11e9_8913_0242ac1c0002row9_col7 {\n",
       "            background-color:  #e4e1ef;\n",
       "        }    #T_18555abc_4db6_11e9_8913_0242ac1c0002row9_col8 {\n",
       "            background-color:  #e8e4f0;\n",
       "        }    #T_18555abc_4db6_11e9_8913_0242ac1c0002row9_col9 {\n",
       "            background-color:  #023858;\n",
       "        }</style>  \n",
       "<table id=\"T_18555abc_4db6_11e9_8913_0242ac1c0002\" > \n",
       "<thead>    <tr> \n",
       "        <th class=\"blank level0\" ></th> \n",
       "        <th class=\"col_heading level0 col0\" >total_distance</th> \n",
       "        <th class=\"col_heading level0 col1\" >number_of_steps</th> \n",
       "        <th class=\"col_heading level0 col2\" >week</th> \n",
       "        <th class=\"col_heading level0 col3\" >weekday</th> \n",
       "        <th class=\"col_heading level0 col4\" >hour</th> \n",
       "        <th class=\"col_heading level0 col5\" >trip_duration</th> \n",
       "        <th class=\"col_heading level0 col6\" >LATITUDE</th> \n",
       "        <th class=\"col_heading level0 col7\" >LONGITUDE</th> \n",
       "        <th class=\"col_heading level0 col8\" >dropoff_longitude</th> \n",
       "        <th class=\"col_heading level0 col9\" >dropoff_latitude</th> \n",
       "    </tr></thead> \n",
       "<tbody>    <tr> \n",
       "        <th id=\"T_18555abc_4db6_11e9_8913_0242ac1c0002level0_row0\" class=\"row_heading level0 row0\" >total_distance</th> \n",
       "        <td id=\"T_18555abc_4db6_11e9_8913_0242ac1c0002row0_col0\" class=\"data row0 col0\" >1</td> \n",
       "        <td id=\"T_18555abc_4db6_11e9_8913_0242ac1c0002row0_col1\" class=\"data row0 col1\" >0.79</td> \n",
       "        <td id=\"T_18555abc_4db6_11e9_8913_0242ac1c0002row0_col2\" class=\"data row0 col2\" >0.023</td> \n",
       "        <td id=\"T_18555abc_4db6_11e9_8913_0242ac1c0002row0_col3\" class=\"data row0 col3\" >0.0072</td> \n",
       "        <td id=\"T_18555abc_4db6_11e9_8913_0242ac1c0002row0_col4\" class=\"data row0 col4\" >-0.019</td> \n",
       "        <td id=\"T_18555abc_4db6_11e9_8913_0242ac1c0002row0_col5\" class=\"data row0 col5\" >0.77</td> \n",
       "        <td id=\"T_18555abc_4db6_11e9_8913_0242ac1c0002row0_col6\" class=\"data row0 col6\" >-0.29</td> \n",
       "        <td id=\"T_18555abc_4db6_11e9_8913_0242ac1c0002row0_col7\" class=\"data row0 col7\" >0.54</td> \n",
       "        <td id=\"T_18555abc_4db6_11e9_8913_0242ac1c0002row0_col8\" class=\"data row0 col8\" >0.33</td> \n",
       "        <td id=\"T_18555abc_4db6_11e9_8913_0242ac1c0002row0_col9\" class=\"data row0 col9\" >-0.16</td> \n",
       "    </tr>    <tr> \n",
       "        <th id=\"T_18555abc_4db6_11e9_8913_0242ac1c0002level0_row1\" class=\"row_heading level0 row1\" >number_of_steps</th> \n",
       "        <td id=\"T_18555abc_4db6_11e9_8913_0242ac1c0002row1_col0\" class=\"data row1 col0\" >0.79</td> \n",
       "        <td id=\"T_18555abc_4db6_11e9_8913_0242ac1c0002row1_col1\" class=\"data row1 col1\" >1</td> \n",
       "        <td id=\"T_18555abc_4db6_11e9_8913_0242ac1c0002row1_col2\" class=\"data row1 col2\" >0.018</td> \n",
       "        <td id=\"T_18555abc_4db6_11e9_8913_0242ac1c0002row1_col3\" class=\"data row1 col3\" >0.018</td> \n",
       "        <td id=\"T_18555abc_4db6_11e9_8913_0242ac1c0002row1_col4\" class=\"data row1 col4\" >-0.022</td> \n",
       "        <td id=\"T_18555abc_4db6_11e9_8913_0242ac1c0002row1_col5\" class=\"data row1 col5\" >0.67</td> \n",
       "        <td id=\"T_18555abc_4db6_11e9_8913_0242ac1c0002row1_col6\" class=\"data row1 col6\" >-0.23</td> \n",
       "        <td id=\"T_18555abc_4db6_11e9_8913_0242ac1c0002row1_col7\" class=\"data row1 col7\" >0.35</td> \n",
       "        <td id=\"T_18555abc_4db6_11e9_8913_0242ac1c0002row1_col8\" class=\"data row1 col8\" >0.27</td> \n",
       "        <td id=\"T_18555abc_4db6_11e9_8913_0242ac1c0002row1_col9\" class=\"data row1 col9\" >-0.19</td> \n",
       "    </tr>    <tr> \n",
       "        <th id=\"T_18555abc_4db6_11e9_8913_0242ac1c0002level0_row2\" class=\"row_heading level0 row2\" >week</th> \n",
       "        <td id=\"T_18555abc_4db6_11e9_8913_0242ac1c0002row2_col0\" class=\"data row2 col0\" >0.023</td> \n",
       "        <td id=\"T_18555abc_4db6_11e9_8913_0242ac1c0002row2_col1\" class=\"data row2 col1\" >0.018</td> \n",
       "        <td id=\"T_18555abc_4db6_11e9_8913_0242ac1c0002row2_col2\" class=\"data row2 col2\" >1</td> \n",
       "        <td id=\"T_18555abc_4db6_11e9_8913_0242ac1c0002row2_col3\" class=\"data row2 col3\" >0.038</td> \n",
       "        <td id=\"T_18555abc_4db6_11e9_8913_0242ac1c0002row2_col4\" class=\"data row2 col4\" >-0.017</td> \n",
       "        <td id=\"T_18555abc_4db6_11e9_8913_0242ac1c0002row2_col5\" class=\"data row2 col5\" >0.039</td> \n",
       "        <td id=\"T_18555abc_4db6_11e9_8913_0242ac1c0002row2_col6\" class=\"data row2 col6\" >-0.0065</td> \n",
       "        <td id=\"T_18555abc_4db6_11e9_8913_0242ac1c0002row2_col7\" class=\"data row2 col7\" >0.011</td> \n",
       "        <td id=\"T_18555abc_4db6_11e9_8913_0242ac1c0002row2_col8\" class=\"data row2 col8\" >0.0099</td> \n",
       "        <td id=\"T_18555abc_4db6_11e9_8913_0242ac1c0002row2_col9\" class=\"data row2 col9\" >-0.0039</td> \n",
       "    </tr>    <tr> \n",
       "        <th id=\"T_18555abc_4db6_11e9_8913_0242ac1c0002level0_row3\" class=\"row_heading level0 row3\" >weekday</th> \n",
       "        <td id=\"T_18555abc_4db6_11e9_8913_0242ac1c0002row3_col0\" class=\"data row3 col0\" >0.0072</td> \n",
       "        <td id=\"T_18555abc_4db6_11e9_8913_0242ac1c0002row3_col1\" class=\"data row3 col1\" >0.018</td> \n",
       "        <td id=\"T_18555abc_4db6_11e9_8913_0242ac1c0002row3_col2\" class=\"data row3 col2\" >0.038</td> \n",
       "        <td id=\"T_18555abc_4db6_11e9_8913_0242ac1c0002row3_col3\" class=\"data row3 col3\" >1</td> \n",
       "        <td id=\"T_18555abc_4db6_11e9_8913_0242ac1c0002row3_col4\" class=\"data row3 col4\" >-0.084</td> \n",
       "        <td id=\"T_18555abc_4db6_11e9_8913_0242ac1c0002row3_col5\" class=\"data row3 col5\" >-0.034</td> \n",
       "        <td id=\"T_18555abc_4db6_11e9_8913_0242ac1c0002row3_col6\" class=\"data row3 col6\" >-0.032</td> \n",
       "        <td id=\"T_18555abc_4db6_11e9_8913_0242ac1c0002row3_col7\" class=\"data row3 col7\" >-0.031</td> \n",
       "        <td id=\"T_18555abc_4db6_11e9_8913_0242ac1c0002row3_col8\" class=\"data row3 col8\" >-0.0019</td> \n",
       "        <td id=\"T_18555abc_4db6_11e9_8913_0242ac1c0002row3_col9\" class=\"data row3 col9\" >-0.023</td> \n",
       "    </tr>    <tr> \n",
       "        <th id=\"T_18555abc_4db6_11e9_8913_0242ac1c0002level0_row4\" class=\"row_heading level0 row4\" >hour</th> \n",
       "        <td id=\"T_18555abc_4db6_11e9_8913_0242ac1c0002row4_col0\" class=\"data row4 col0\" >-0.019</td> \n",
       "        <td id=\"T_18555abc_4db6_11e9_8913_0242ac1c0002row4_col1\" class=\"data row4 col1\" >-0.022</td> \n",
       "        <td id=\"T_18555abc_4db6_11e9_8913_0242ac1c0002row4_col2\" class=\"data row4 col2\" >-0.017</td> \n",
       "        <td id=\"T_18555abc_4db6_11e9_8913_0242ac1c0002row4_col3\" class=\"data row4 col3\" >-0.084</td> \n",
       "        <td id=\"T_18555abc_4db6_11e9_8913_0242ac1c0002row4_col4\" class=\"data row4 col4\" >1</td> \n",
       "        <td id=\"T_18555abc_4db6_11e9_8913_0242ac1c0002row4_col5\" class=\"data row4 col5\" >0.027</td> \n",
       "        <td id=\"T_18555abc_4db6_11e9_8913_0242ac1c0002row4_col6\" class=\"data row4 col6\" >0.012</td> \n",
       "        <td id=\"T_18555abc_4db6_11e9_8913_0242ac1c0002row4_col7\" class=\"data row4 col7\" >0.019</td> \n",
       "        <td id=\"T_18555abc_4db6_11e9_8913_0242ac1c0002row4_col8\" class=\"data row4 col8\" >-0.043</td> \n",
       "        <td id=\"T_18555abc_4db6_11e9_8913_0242ac1c0002row4_col9\" class=\"data row4 col9\" >0.015</td> \n",
       "    </tr>    <tr> \n",
       "        <th id=\"T_18555abc_4db6_11e9_8913_0242ac1c0002level0_row5\" class=\"row_heading level0 row5\" >trip_duration</th> \n",
       "        <td id=\"T_18555abc_4db6_11e9_8913_0242ac1c0002row5_col0\" class=\"data row5 col0\" >0.77</td> \n",
       "        <td id=\"T_18555abc_4db6_11e9_8913_0242ac1c0002row5_col1\" class=\"data row5 col1\" >0.67</td> \n",
       "        <td id=\"T_18555abc_4db6_11e9_8913_0242ac1c0002row5_col2\" class=\"data row5 col2\" >0.039</td> \n",
       "        <td id=\"T_18555abc_4db6_11e9_8913_0242ac1c0002row5_col3\" class=\"data row5 col3\" >-0.034</td> \n",
       "        <td id=\"T_18555abc_4db6_11e9_8913_0242ac1c0002row5_col4\" class=\"data row5 col4\" >0.027</td> \n",
       "        <td id=\"T_18555abc_4db6_11e9_8913_0242ac1c0002row5_col5\" class=\"data row5 col5\" >1</td> \n",
       "        <td id=\"T_18555abc_4db6_11e9_8913_0242ac1c0002row5_col6\" class=\"data row5 col6\" >-0.22</td> \n",
       "        <td id=\"T_18555abc_4db6_11e9_8913_0242ac1c0002row5_col7\" class=\"data row5 col7\" >0.37</td> \n",
       "        <td id=\"T_18555abc_4db6_11e9_8913_0242ac1c0002row5_col8\" class=\"data row5 col8\" >0.22</td> \n",
       "        <td id=\"T_18555abc_4db6_11e9_8913_0242ac1c0002row5_col9\" class=\"data row5 col9\" >-0.18</td> \n",
       "    </tr>    <tr> \n",
       "        <th id=\"T_18555abc_4db6_11e9_8913_0242ac1c0002level0_row6\" class=\"row_heading level0 row6\" >LATITUDE</th> \n",
       "        <td id=\"T_18555abc_4db6_11e9_8913_0242ac1c0002row6_col0\" class=\"data row6 col0\" >-0.29</td> \n",
       "        <td id=\"T_18555abc_4db6_11e9_8913_0242ac1c0002row6_col1\" class=\"data row6 col1\" >-0.23</td> \n",
       "        <td id=\"T_18555abc_4db6_11e9_8913_0242ac1c0002row6_col2\" class=\"data row6 col2\" >-0.0065</td> \n",
       "        <td id=\"T_18555abc_4db6_11e9_8913_0242ac1c0002row6_col3\" class=\"data row6 col3\" >-0.032</td> \n",
       "        <td id=\"T_18555abc_4db6_11e9_8913_0242ac1c0002row6_col4\" class=\"data row6 col4\" >0.012</td> \n",
       "        <td id=\"T_18555abc_4db6_11e9_8913_0242ac1c0002row6_col5\" class=\"data row6 col5\" >-0.22</td> \n",
       "        <td id=\"T_18555abc_4db6_11e9_8913_0242ac1c0002row6_col6\" class=\"data row6 col6\" >1</td> \n",
       "        <td id=\"T_18555abc_4db6_11e9_8913_0242ac1c0002row6_col7\" class=\"data row6 col7\" >-0.13</td> \n",
       "        <td id=\"T_18555abc_4db6_11e9_8913_0242ac1c0002row6_col8\" class=\"data row6 col8\" >0.069</td> \n",
       "        <td id=\"T_18555abc_4db6_11e9_8913_0242ac1c0002row6_col9\" class=\"data row6 col9\" >0.4</td> \n",
       "    </tr>    <tr> \n",
       "        <th id=\"T_18555abc_4db6_11e9_8913_0242ac1c0002level0_row7\" class=\"row_heading level0 row7\" >LONGITUDE</th> \n",
       "        <td id=\"T_18555abc_4db6_11e9_8913_0242ac1c0002row7_col0\" class=\"data row7 col0\" >0.54</td> \n",
       "        <td id=\"T_18555abc_4db6_11e9_8913_0242ac1c0002row7_col1\" class=\"data row7 col1\" >0.35</td> \n",
       "        <td id=\"T_18555abc_4db6_11e9_8913_0242ac1c0002row7_col2\" class=\"data row7 col2\" >0.011</td> \n",
       "        <td id=\"T_18555abc_4db6_11e9_8913_0242ac1c0002row7_col3\" class=\"data row7 col3\" >-0.031</td> \n",
       "        <td id=\"T_18555abc_4db6_11e9_8913_0242ac1c0002row7_col4\" class=\"data row7 col4\" >0.019</td> \n",
       "        <td id=\"T_18555abc_4db6_11e9_8913_0242ac1c0002row7_col5\" class=\"data row7 col5\" >0.37</td> \n",
       "        <td id=\"T_18555abc_4db6_11e9_8913_0242ac1c0002row7_col6\" class=\"data row7 col6\" >-0.13</td> \n",
       "        <td id=\"T_18555abc_4db6_11e9_8913_0242ac1c0002row7_col7\" class=\"data row7 col7\" >1</td> \n",
       "        <td id=\"T_18555abc_4db6_11e9_8913_0242ac1c0002row7_col8\" class=\"data row7 col8\" >0.24</td> \n",
       "        <td id=\"T_18555abc_4db6_11e9_8913_0242ac1c0002row7_col9\" class=\"data row7 col9\" >0.054</td> \n",
       "    </tr>    <tr> \n",
       "        <th id=\"T_18555abc_4db6_11e9_8913_0242ac1c0002level0_row8\" class=\"row_heading level0 row8\" >dropoff_longitude</th> \n",
       "        <td id=\"T_18555abc_4db6_11e9_8913_0242ac1c0002row8_col0\" class=\"data row8 col0\" >0.33</td> \n",
       "        <td id=\"T_18555abc_4db6_11e9_8913_0242ac1c0002row8_col1\" class=\"data row8 col1\" >0.27</td> \n",
       "        <td id=\"T_18555abc_4db6_11e9_8913_0242ac1c0002row8_col2\" class=\"data row8 col2\" >0.0099</td> \n",
       "        <td id=\"T_18555abc_4db6_11e9_8913_0242ac1c0002row8_col3\" class=\"data row8 col3\" >-0.0019</td> \n",
       "        <td id=\"T_18555abc_4db6_11e9_8913_0242ac1c0002row8_col4\" class=\"data row8 col4\" >-0.043</td> \n",
       "        <td id=\"T_18555abc_4db6_11e9_8913_0242ac1c0002row8_col5\" class=\"data row8 col5\" >0.22</td> \n",
       "        <td id=\"T_18555abc_4db6_11e9_8913_0242ac1c0002row8_col6\" class=\"data row8 col6\" >0.069</td> \n",
       "        <td id=\"T_18555abc_4db6_11e9_8913_0242ac1c0002row8_col7\" class=\"data row8 col7\" >0.24</td> \n",
       "        <td id=\"T_18555abc_4db6_11e9_8913_0242ac1c0002row8_col8\" class=\"data row8 col8\" >1</td> \n",
       "        <td id=\"T_18555abc_4db6_11e9_8913_0242ac1c0002row8_col9\" class=\"data row8 col9\" >0.11</td> \n",
       "    </tr>    <tr> \n",
       "        <th id=\"T_18555abc_4db6_11e9_8913_0242ac1c0002level0_row9\" class=\"row_heading level0 row9\" >dropoff_latitude</th> \n",
       "        <td id=\"T_18555abc_4db6_11e9_8913_0242ac1c0002row9_col0\" class=\"data row9 col0\" >-0.16</td> \n",
       "        <td id=\"T_18555abc_4db6_11e9_8913_0242ac1c0002row9_col1\" class=\"data row9 col1\" >-0.19</td> \n",
       "        <td id=\"T_18555abc_4db6_11e9_8913_0242ac1c0002row9_col2\" class=\"data row9 col2\" >-0.0039</td> \n",
       "        <td id=\"T_18555abc_4db6_11e9_8913_0242ac1c0002row9_col3\" class=\"data row9 col3\" >-0.023</td> \n",
       "        <td id=\"T_18555abc_4db6_11e9_8913_0242ac1c0002row9_col4\" class=\"data row9 col4\" >0.015</td> \n",
       "        <td id=\"T_18555abc_4db6_11e9_8913_0242ac1c0002row9_col5\" class=\"data row9 col5\" >-0.18</td> \n",
       "        <td id=\"T_18555abc_4db6_11e9_8913_0242ac1c0002row9_col6\" class=\"data row9 col6\" >0.4</td> \n",
       "        <td id=\"T_18555abc_4db6_11e9_8913_0242ac1c0002row9_col7\" class=\"data row9 col7\" >0.054</td> \n",
       "        <td id=\"T_18555abc_4db6_11e9_8913_0242ac1c0002row9_col8\" class=\"data row9 col8\" >0.11</td> \n",
       "        <td id=\"T_18555abc_4db6_11e9_8913_0242ac1c0002row9_col9\" class=\"data row9 col9\" >1</td> \n",
       "    </tr></tbody> \n",
       "</table> "
      ],
      "text/plain": [
       "<pandas.io.formats.style.Styler at 0x7f8cbf26c128>"
      ]
     },
     "execution_count": 18,
     "metadata": {
      "tags": []
     },
     "output_type": "execute_result"
    }
   ],
   "source": [
    "# Get only the attributes which influence trip duration\n",
    "\n",
    "df_taxi_attrib = df_taxi_osrm_merged[['total_distance','number_of_steps','week','weekday','hour','trip_duration','LATITUDE','LONGITUDE','dropoff_longitude','dropoff_latitude']]\n",
    "\n",
    "#Total distance to be greater than zero\n",
    "\n",
    "df_taxi_attrib = df_taxi_attrib[df_taxi_attrib['total_distance'] > 0]\n",
    "\n",
    "df_taxi_attrib.describe()\n",
    "\n",
    "corr = df_taxi_attrib.corr()\n",
    "\n",
    "corr.style.background_gradient().set_precision(2)\n",
    "\n",
    "\n"
   ]
  },
  {
   "cell_type": "code",
   "execution_count": 19,
   "metadata": {
    "colab": {
     "base_uri": "https://localhost:8080/",
     "height": 445
    },
    "colab_type": "code",
    "id": "NjTjG5EDdmCI",
    "outputId": "1c9fc311-5a87-425a-80ec-e8bf98b9e884"
   },
   "outputs": [
    {
     "data": {
      "image/png": "[encoded data removed]",
      "text/plain": [
       "<Figure size 864x432 with 2 Axes>"
      ]
     },
     "metadata": {
      "tags": []
     },
     "output_type": "display_data"
    }
   ],
   "source": [
    "# plot correlation matrix\n",
    "plt.rcParams['figure.figsize'] = (12, 6)\n",
    "plt.imshow(corr, cmap=plt.cm.Blues, interpolation='nearest')\n",
    "plt.colorbar()\n",
    "tick_marks = [i for i in range(len(corr.columns))]\n",
    "plt.xticks(tick_marks, corr.columns, rotation='vertical')\n",
    "plt.yticks(tick_marks, corr.columns)\n",
    "plt.show()"
   ]
  },
  {
   "cell_type": "code",
   "execution_count": 20,
   "metadata": {
    "colab": {
     "base_uri": "https://localhost:8080/",
     "height": 34
    },
    "colab_type": "code",
    "id": "U4nKja3gmJfk",
    "outputId": "bbff2b58-fa31-49f9-edb9-467e60c88edb"
   },
   "outputs": [
    {
     "data": {
      "text/plain": [
       "((1433180, 9), (1433180,))"
      ]
     },
     "execution_count": 20,
     "metadata": {
      "tags": []
     },
     "output_type": "execute_result"
    }
   ],
   "source": [
    "#Model Creation - to predict trip duration\n",
    "y = df_taxi_attrib[\"trip_duration\"]\n",
    "df_taxi_attrib.drop([\"trip_duration\"], axis=1, inplace=True)\n",
    "X = df_taxi_attrib \n",
    "X.shape, y.shape"
   ]
  },
  {
   "cell_type": "code",
   "execution_count": 21,
   "metadata": {
    "colab": {
     "base_uri": "https://localhost:8080/",
     "height": 34
    },
    "colab_type": "code",
    "id": "2rdMGikNn_pm",
    "outputId": "1639fb46-df8e-4ace-f048-8498fd735559"
   },
   "outputs": [
    {
     "data": {
      "text/plain": [
       "((1146544, 9), (1146544,), (286636, 9), (286636,))"
      ]
     },
     "execution_count": 21,
     "metadata": {
      "tags": []
     },
     "output_type": "execute_result"
    }
   ],
   "source": [
    "#Split the training data - 80% for training and 20% for testing\n",
    "\n",
    "X_train, X_test, y_train, y_test = train_test_split(X, y, test_size=0.2, random_state=42)\n",
    "X_train.shape, y_train.shape, X_test.shape, y_test.shape"
   ]
  },
  {
   "cell_type": "code",
   "execution_count": 0,
   "metadata": {
    "colab": {},
    "colab_type": "code",
    "id": "squv86pHY1Rg"
   },
   "outputs": [],
   "source": [
    "#linear regression\n",
    "import sklearn.linear_model as lm\n",
    "\n",
    "model = lm.LinearRegression(fit_intercept=True)\n",
    "model.fit(X_train, y_train)\n",
    "\n",
    "# Predict\n",
    "y_train_pred = model.predict(X_train)\n",
    "y_val_pred = model.predict(X_test)"
   ]
  },
  {
   "cell_type": "code",
   "execution_count": 0,
   "metadata": {
    "colab": {},
    "colab_type": "code",
    "id": "iIrN23y5sI5m"
   },
   "outputs": [],
   "source": [
    "from sklearn.metrics import r2_score\n"
   ]
  },
  {
   "cell_type": "code",
   "execution_count": 24,
   "metadata": {
    "colab": {
     "base_uri": "https://localhost:8080/",
     "height": 34
    },
    "colab_type": "code",
    "id": "hetVCWYmapog",
    "outputId": "2089cb5f-b1f4-4aa9-cd85-f9c5ba2229de"
   },
   "outputs": [
    {
     "data": {
      "text/plain": [
       "0.6165338153130862"
      ]
     },
     "execution_count": 24,
     "metadata": {
      "tags": []
     },
     "output_type": "execute_result"
    }
   ],
   "source": [
    "r2_score(y_test, y_val_pred)"
   ]
  },
  {
   "cell_type": "code",
   "execution_count": 25,
   "metadata": {
    "colab": {
     "base_uri": "https://localhost:8080/",
     "height": 34
    },
    "colab_type": "code",
    "id": "lAMeWS5acPTS",
    "outputId": "96a98a0c-79c1-45b8-d967-8d9aa6dd1558"
   },
   "outputs": [
    {
     "name": "stdout",
     "output_type": "stream",
     "text": [
      "Validation Error:  273.53435765553064\n"
     ]
    }
   ],
   "source": [
    "def mae(actual, predicted):\n",
    "    \"\"\"\n",
    "    Calculates MAE from actual and predicted values\n",
    "    Input:\n",
    "      actual (1D array-like): vector of actual values\n",
    "      predicted (1D array-like): vector of predicted/fitted values\n",
    "    Output:\n",
    "      a float, the MAE\n",
    "    \"\"\"\n",
    "    \n",
    "    mae = np.mean(np.abs(actual - predicted))\n",
    "    return mae\n",
    "\n",
    "print(\"Validation Error: \", mae(y_test, y_val_pred))"
   ]
  },
  {
   "cell_type": "code",
   "execution_count": 28,
   "metadata": {
    "colab": {
     "base_uri": "https://localhost:8080/",
     "height": 34
    },
    "colab_type": "code",
    "id": "tX-v9Daovs-N",
    "outputId": "6d10581e-308c-4837-f4e2-9d043bbc72d3"
   },
   "outputs": [
    {
     "data": {
      "text/plain": [
       "0.7981658716805347"
      ]
     },
     "execution_count": 28,
     "metadata": {
      "tags": []
     },
     "output_type": "execute_result"
    }
   ],
   "source": [
    "#Run Random Forest modle with n_estimators = 20 and max_depth = 80\n",
    "\n",
    "m1 = RandomForestRegressor(n_estimators=20, min_samples_split=2, min_samples_leaf=4, max_features='auto', max_depth=80, bootstrap=True)\n",
    "m1.fit(X_train, y_train)\n",
    "m1.score(X_valid, y_valid)"
   ]
  },
  {
   "cell_type": "code",
   "execution_count": 29,
   "metadata": {
    "colab": {
     "base_uri": "https://localhost:8080/",
     "height": 34
    },
    "colab_type": "code",
    "id": "HIdtr-3wojvF",
    "outputId": "c487020f-769c-4a78-9298-cfb957c17d48"
   },
   "outputs": [
    {
     "data": {
      "text/plain": [
       "0.8037941728360292"
      ]
     },
     "execution_count": 29,
     "metadata": {
      "tags": []
     },
     "output_type": "execute_result"
    }
   ],
   "source": [
    "\n",
    "#Run Random Forest modle with n_estimators = 100 and max_depth = 60\n",
    "\n",
    "m1 = RandomForestRegressor(n_estimators=100, min_samples_split=2, min_samples_leaf=4, max_features='auto', max_depth=60, bootstrap=True)\n",
    "m1.fit(X_train, y_train)\n",
    "m1.score(X_valid, y_valid)"
   ]
  },
  {
   "cell_type": "code",
   "execution_count": 0,
   "metadata": {
    "colab": {},
    "colab_type": "code",
    "id": "PWDkfjbxiOfe"
   },
   "outputs": [],
   "source": [
    "#Predict the test data using the model\n",
    "y_pred=m1.predict(X_valid)"
   ]
  },
  {
   "cell_type": "code",
   "execution_count": 0,
   "metadata": {
    "colab": {},
    "colab_type": "code",
    "id": "O4K2kLLemw4g"
   },
   "outputs": [],
   "source": [
    "feature_imp = pd.Series(m1.feature_importances_,attribs_1).sort_values(ascending=False)"
   ]
  },
  {
   "cell_type": "code",
   "execution_count": 0,
   "metadata": {
    "colab": {},
    "colab_type": "code",
    "id": "KVJl6kfYne90"
   },
   "outputs": [],
   "source": [
    "#Determine feature importance score of the features used in the model\n",
    "\n",
    "attribs_1 = ['total_distance','number_of_steps','LATITUDE','LONGITUDE','hour','week','weekday','dropoff_longitude','dropoff_latitude']\n",
    "\n",
    "feature_imp = pd.Series(m1.feature_importances_,attribs_1).sort_values(ascending=False)"
   ]
  },
  {
   "cell_type": "code",
   "execution_count": 36,
   "metadata": {
    "colab": {
     "base_uri": "https://localhost:8080/",
     "height": 328
    },
    "colab_type": "code",
    "id": "aYomzM1zofzA",
    "outputId": "363604b1-930c-4496-bcec-d5c82fb2b11c"
   },
   "outputs": [
    {
     "name": "stderr",
     "output_type": "stream",
     "text": [
      "/usr/local/lib/python3.6/dist-packages/seaborn/categorical.py:1428: FutureWarning: remove_na is deprecated and is a private function. Do not use.\n",
      "  stat_data = remove_na(group_data)\n"
     ]
    },
    {
     "data": {
      "image/png": "[encoded data removed]",
      "text/plain": [
       "<Figure size 432x288 with 1 Axes>"
      ]
     },
     "metadata": {
      "tags": []
     },
     "output_type": "display_data"
    }
   ],
   "source": [
    "\n",
    "feature_imp\n",
    "\n",
    "import matplotlib.pyplot as plt\n",
    "import seaborn as sns\n",
    "%matplotlib inline\n",
    "# Creating a bar plot\n",
    "sns.barplot(x=feature_imp, y=feature_imp.index)\n",
    "# Add labels to your graph\n",
    "plt.xlabel('Feature Importance Score')\n",
    "plt.ylabel('Features')\n",
    "plt.title(\"Visualizing Important Features\")\n",
    "#plt.legend()\n",
    "plt.show()"
   ]
  }
 ],
 "metadata": {
  "accelerator": "GPU",
  "colab": {
   "collapsed_sections": [],
   "name": "NYTaxi_OSRM-Project.ipynb",
   "provenance": [],
   "toc_visible": true,
   "version": "0.3.2"
  },
  "kernelspec": {
   "display_name": "Python 3",
   "language": "python",
   "name": "python3"
  },
  "language_info": {
   "codemirror_mode": {
    "name": "ipython",
    "version": 3
   },
   "file_extension": ".py",
   "mimetype": "text/x-python",
   "name": "python",
   "nbconvert_exporter": "python",
   "pygments_lexer": "ipython3",
   "version": "3.7.0"
  }
 },
 "nbformat": 4,
 "nbformat_minor": 1
}
